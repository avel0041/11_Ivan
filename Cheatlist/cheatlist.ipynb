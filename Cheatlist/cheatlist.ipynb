{
 "cells": [
  {
   "cell_type": "markdown",
   "metadata": {},
   "source": [
    "## Читлист по Python"
   ]
  },
  {
   "cell_type": "markdown",
   "metadata": {},
   "source": [
    "## Переменные"
   ]
  },
  {
   "cell_type": "markdown",
   "metadata": {},
   "source": [
    "### Объявление и присваивание"
   ]
  },
  {
   "cell_type": "code",
   "execution_count": null,
   "metadata": {},
   "outputs": [],
   "source": [
    "a = 1 #присвоение переменной <a> значения 1\n",
    "b = a #присвоение переменной <b> значения переменной <a>"
   ]
  },
  {
   "cell_type": "markdown",
   "metadata": {},
   "source": [
    "### Типы"
   ]
  },
  {
   "cell_type": "code",
   "execution_count": null,
   "metadata": {},
   "outputs": [],
   "source": [
    "a = str() #Создание пустой строки\n",
    "a = '' #Создание пустой строки\n",
    "a = '123a'\n",
    "\n",
    "a = 1 #целое значение\n",
    "\n",
    "a = 2.5 #тип float (дробное)\n",
    "\n",
    "a = list() #Создание пустого массива\n",
    "a = [] #Создание пустого массива\n",
    "a = [1, 'avc', 3, [1, 2, 932]] #Массив состоит из элементов (элементом может быть любой тип)\n",
    "\n",
    "a = set() #Создание пустого множества\n",
    "a = {} #Создание пустого множества\n",
    "# Множество - неупорядоченный массив с неповторяющимися элементами\n",
    "\n",
    "a = () # Создание пустого кортежа (неизменяемый массив)\n",
    "a = tuple() # Создание пустого кортежа"
   ]
  },
  {
   "cell_type": "markdown",
   "metadata": {},
   "source": [
    "#### Преобразование типов"
   ]
  },
  {
   "cell_type": "code",
   "execution_count": null,
   "metadata": {},
   "outputs": [],
   "source": [
    "a = 1\n",
    "s = str(a) #Преобразование в строку s = '1'\n",
    "\n",
    "s = '1'\n",
    "a = int(s) #Преобразование в число a = 1\n",
    "\n",
    "s = '12345'\n",
    "b = list(s) #Создание массива из строчки b = ['1', '2', '3', '4', '5']\n",
    "\n",
    "\n",
    "a = 1.3\n",
    "b = int(a) #преобразование в целое число b = 1"
   ]
  },
  {
   "cell_type": "markdown",
   "metadata": {},
   "source": [
    "### Операции"
   ]
  },
  {
   "cell_type": "code",
   "execution_count": null,
   "metadata": {},
   "outputs": [],
   "source": [
    "a = 3\n",
    "b = 4\n",
    "\n",
    "c = a+b\n",
    "c = a-b\n",
    "c = a*b    \n",
    "c = a/b # c всегда float (дробное)\n",
    "\n",
    "c = a**b # Возведение в степень\n",
    "c = a%b # Остаток от деления  (13 mod 5 = 3)\n",
    "c = a//b # Целочисленное деление (13 div 5 = 2)"
   ]
  },
  {
   "cell_type": "markdown",
   "metadata": {},
   "source": [
    "### Ввод и вывод данных"
   ]
  },
  {
   "cell_type": "code",
   "execution_count": null,
   "metadata": {},
   "outputs": [],
   "source": [
    "a = input() #Считывает первую строку из ввода и переходит к следующей\n",
    "\n",
    "print(1) # Вывод значения 1\n",
    "print('abc') # Вывод строки abc\n",
    "print(a) # Вывод значения переменной a\n",
    "print(1,2,3) #Вывод нескольких значений в одну строку\n",
    "print(1,2,3, sep=',') #Вывод нескольких значений в одну строку, разделенных между собой запятой"
   ]
  },
  {
   "cell_type": "markdown",
   "metadata": {},
   "source": [
    "### Работа со строками"
   ]
  },
  {
   "cell_type": "code",
   "execution_count": null,
   "metadata": {},
   "outputs": [],
   "source": [
    "s = '124456'\n",
    "\n",
    "len(s) #Длина строки (кол-во элементов)\n",
    "s = s.replace('4', '5') #Заменить ВСЕ 4 на 5\n",
    "s = s.replace('4', '5', 1) #Заменить только первую слева 4 на 5\n",
    "s.find('4') #индекс первой слева 4\n",
    "s.count('4') #количество четверок в строке\n",
    "\n",
    "if '4' in s: #Проверка есть ли 4 в строке s\n",
    "    print('4 есть в строке s')\n",
    "\n",
    "s[0] #Обращение к 0-му элементу строки\n",
    "s[-1] #Обращение к последнему элементу строки\n",
    "s[0:4] #Строка, состоящая из первых 4х элементов строки s\n",
    "s[:4] #Строка, состоящая из первых 4х элементов строки s\n",
    "s[1:] #Строка, состоящая из всех элементов, кроме 0-го\n",
    "s[::-1] #Переворот всей строки (задом наперед)\n",
    "\n",
    "# Уникально для строк!\n",
    "s = '1'*77 #Строка состоящая из 77 единиц\n",
    "s = '3' + '4' #Получится строка s = '34'\n",
    "\n",
    "s = '1 2 3 4 5'\n",
    "s = s.split(' ') # делает массив из элементов строки, разделенных пробелом\n",
    "# s = ['1', '2', '3', ...]"
   ]
  },
  {
   "cell_type": "markdown",
   "metadata": {},
   "source": [
    "### Работа с массивами"
   ]
  },
  {
   "cell_type": "code",
   "execution_count": null,
   "metadata": {},
   "outputs": [],
   "source": [
    "a = [1, '1', 5, 10, 'a', [1, 2]]\n",
    "# Работают все те функции, которые работают со строками\n",
    "\n",
    "# Уникально для массива\n",
    "a[0] = 5 #Нулевой элемент массива станет равен 5\n",
    "a.append(3) #Добавление числа 3 в конец массива"
   ]
  },
  {
   "cell_type": "markdown",
   "metadata": {},
   "source": [
    "### Полезное применение в ЕГЭ:"
   ]
  },
  {
   "cell_type": "markdown",
   "metadata": {},
   "source": [
    "1) Нам необходимо разбить число 12345 на цифры и поместить их в массив как числа"
   ]
  },
  {
   "cell_type": "code",
   "execution_count": null,
   "metadata": {},
   "outputs": [],
   "source": [
    "a = 12345\n",
    "s = str(a) # s = '12345'\n",
    "p = list(s) # Массив из элементов строки (внутри будут тоже строки!)\n",
    "# p = ['1', '2', '3', '4', '5']\n",
    "l = list(map(int,s)) #функция map применяет int ко всем элементам строки(массива) s (внутри уже будут значения, а не строки)\n",
    "# l = [1, 2, 3, 4, 5]"
   ]
  },
  {
   "cell_type": "markdown",
   "metadata": {},
   "source": [
    "2) Нам необходимо массив из строк преобразовать в строку"
   ]
  },
  {
   "cell_type": "code",
   "execution_count": null,
   "metadata": {},
   "outputs": [],
   "source": [
    "p = ['1', '2', '3', '4', '5']\n",
    "s = ''.join(p)\n",
    "# s = '12345'"
   ]
  },
  {
   "cell_type": "markdown",
   "metadata": {},
   "source": [
    "3) Сделать упорядоченный массив"
   ]
  },
  {
   "cell_type": "code",
   "execution_count": null,
   "metadata": {},
   "outputs": [],
   "source": [
    "a = sorted('QWERTYUIOPASDFGHJKLZXCVBNM')\n",
    "#или\n",
    "a = [0, 5, 3, 4, 1]\n",
    "a = sorted(a)\n",
    "# a = [0, 1, 3, 4, 5]"
   ]
  },
  {
   "cell_type": "markdown",
   "metadata": {},
   "source": [
    "### Условный оператор"
   ]
  },
  {
   "cell_type": "code",
   "execution_count": null,
   "metadata": {},
   "outputs": [],
   "source": [
    "# Если условие правдивое, то выполняется код, который отделен табуляцией\n",
    "if a == 0:\n",
    "    print('a равно 0')\n",
    "if a != 0:\n",
    "    print('a не равно 0')\n",
    "if a > 0:\n",
    "    print('a больше 0')\n",
    "if a >= 0:\n",
    "    print('a больше или равно 0')\n",
    "if a < 0:\n",
    "    print('a меньше 0')\n",
    "if a <= 0:\n",
    "    print('a меньше или равно 0')\n",
    "\n",
    "\n",
    "if a==0:\n",
    "    print('a равно 0')\n",
    "elif a==1: #Иначе, если\n",
    "    print('a равно 1')\n",
    "else:\n",
    "    print('a не равно 0 или 1')\n",
    "\n",
    "if a == 0 or a == 1:\n",
    "    print('a равно 0 ИЛИ 1')\n",
    "\n",
    "if a > 0 and a < 5:\n",
    "    print('a больше 0 И меньше 5')"
   ]
  },
  {
   "cell_type": "markdown",
   "metadata": {},
   "source": [
    "### Циклы"
   ]
  },
  {
   "cell_type": "code",
   "execution_count": null,
   "metadata": {},
   "outputs": [],
   "source": [
    "# Цикл while\n",
    "# Пока выполняется условие:\n",
    "#   делай это\n",
    "\n",
    "a = 0\n",
    "while a < 10: #Пока a меньше 10\n",
    "    print(a) #Выводи a\n",
    "    a = a + 1 #Прибавь к а 1\n",
    "\n",
    "# Цикл for\n",
    "# Для каждого значения из указанного множества:\n",
    "#   делай это\n",
    "\n",
    "for a in range(0, 101, 1): #Для каждого а в диапазоне от 0 до 100 (101 не включительно!) с шагом 1\n",
    "    print(a) #выведи этот a\n",
    "\n",
    "for a in range(100, -1, -1): #Для каждого а в диапазоне от 100 до 0 (-1 не включительно!) с шагом -1\n",
    "    print(a) #выведи этот a\n",
    "\n",
    "a = '12345abc' # а может быть строкой\n",
    "a = [1,2,7,4,10] # a может быть массивом\n",
    "a = {1, 2, 4} # a может быть множеством\n",
    "for el in a: #Для каждого элемента из a\n",
    "    print(el) #выведи этот элемент"
   ]
  },
  {
   "cell_type": "markdown",
   "metadata": {},
   "source": [
    "### Работа с системами исчисления"
   ]
  },
  {
   "cell_type": "markdown",
   "metadata": {},
   "source": [
    "1) Перевод из любой СИ в 10ную"
   ]
  },
  {
   "cell_type": "code",
   "execution_count": null,
   "metadata": {},
   "outputs": [],
   "source": [
    "n = 7 #Основание системы исчисления\n",
    "a = '164' #Само число\n",
    "b = int(a, n) # Перевод в 10ную СИ  (n должно быть <= 36)\n",
    "#Если n > 36:\n",
    "n=55\n",
    "a = 'AB49'\n",
    "b = 9*55**0 + 4*55**1 + 11*55**2 + 10*55**3"
   ]
  },
  {
   "cell_type": "markdown",
   "metadata": {},
   "source": [
    "2) Перевод из 10ной в любую"
   ]
  },
  {
   "cell_type": "code",
   "execution_count": null,
   "metadata": {},
   "outputs": [],
   "source": [
    "n = 5 #Основание системы исчисления\n",
    "a = 173\n",
    "b = ''\n",
    "while a!=0:\n",
    "    b = b + str(a%n)\n",
    "    a = a//n\n",
    "b = b[::-1]\n",
    "print(b)"
   ]
  },
  {
   "cell_type": "markdown",
   "metadata": {},
   "source": [
    "3) Перевод из 10ной в 2ную"
   ]
  },
  {
   "cell_type": "code",
   "execution_count": null,
   "metadata": {},
   "outputs": [],
   "source": [
    "a = 54\n",
    "print(bin(a)[2:])"
   ]
  },
  {
   "cell_type": "markdown",
   "metadata": {},
   "source": [
    "перевод \n",
    "\n",
    "тождественно истинна = это 1 "
   ]
  },
  {
   "cell_type": "markdown",
   "metadata": {},
   "source": [
    "### Работа с файлами"
   ]
  },
  {
   "cell_type": "code",
   "execution_count": null,
   "metadata": {},
   "outputs": [],
   "source": [
    "f = open('1.txt') # открыли файл 1.txt\n",
    "a = f.readline() # Записываем в переменную a первую строку из файла f, при следующем вызове функции readline() будет прочитана следующая строка\n",
    "\n",
    "b = f.readlines() # Записываем все строки из файла f в массив b. Массив b имеет вид: b = ['строка1', 'строка2', ...]"
   ]
  }
 ],
 "metadata": {
  "kernelspec": {
   "display_name": "Python 3",
   "language": "python",
   "name": "python3"
  },
  "language_info": {
   "codemirror_mode": {
    "name": "ipython",
    "version": 3
   },
   "file_extension": ".py",
   "mimetype": "text/x-python",
   "name": "python",
   "nbconvert_exporter": "python",
   "pygments_lexer": "ipython3",
   "version": "3.10.2"
  }
 },
 "nbformat": 4,
 "nbformat_minor": 2
}
