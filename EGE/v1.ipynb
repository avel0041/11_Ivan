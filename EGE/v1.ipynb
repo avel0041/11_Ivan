{
 "cells": [
  {
   "cell_type": "code",
   "execution_count": null,
   "metadata": {},
   "outputs": [
    {
     "name": "stdout",
     "output_type": "stream",
     "text": [
      "0 0 0 0 True\n",
      "0 0 0 1 False\n",
      "0 0 1 0 True\n",
      "0 0 1 1 True\n",
      "0 1 0 0 False\n",
      "0 1 0 1 True\n",
      "0 1 1 0 True\n",
      "0 1 1 1 True\n",
      "1 0 0 0 True\n",
      "1 0 0 1 True\n",
      "1 0 1 0 True\n",
      "1 0 1 1 True\n",
      "1 1 0 0 False\n",
      "1 1 0 1 True\n",
      "1 1 1 0 True\n",
      "1 1 1 1 True\n"
     ]
    }
   ],
   "source": [
    "print('x y z w F')\n",
    "for x in range(0, 2):\n",
    "    for y in range(0, 2):\n",
    "        for z in range(0, 2):\n",
    "            for w in range(0, 2):\n",
    "                F = ((1 == w) == (not((w and x) or y)))<= z          #((1≡w)≡(¬((w∧x)∨y)))→z \n",
    "                print(x, y, z, w, F)\n",
    "                "
   ]
  },
  {
   "cell_type": "code",
   "execution_count": 6,
   "metadata": {},
   "outputs": [
    {
     "name": "stdout",
     "output_type": "stream",
     "text": [
      "47\n"
     ]
    }
   ],
   "source": [
    "#На вход алгоритма подаётся натуральное число N\n",
    "# Алгоритм строит по нему новое число R\n",
    "# следующим образом:\n",
    "# 1 Строится двоичная запись числа N.\n",
    "# 2 Далее эта запись обрабатывается по следующему правилу:\n",
    "# а) если число чётное, то все нули, что есть в числе, дублируются в конце числа;\n",
    "# б) если число нечётное, то все единицы, что есть в числе, дублируются в начале числа.\n",
    "# Полученная таким образом запись является двоичной записью искомого числа \n",
    "# R\n",
    "# R.\n",
    "for N in range(1000):  # 50\n",
    "    f = bin(N)[2:] # 10101\n",
    "    r = 0\n",
    "    if N % 2 == 0:\n",
    "        a = f.count('0') \n",
    "        r =  f + '0' * a # 1010100\n",
    "    else:\n",
    "        b = f.count('1')\n",
    "        r = '1' * b + f\n",
    "    s = int(r,2)\n",
    "    if s > 2000:\n",
    "        print(N)\n",
    "        break\n"
   ]
  },
  {
   "cell_type": "code",
   "execution_count": null,
   "metadata": {},
   "outputs": [
    {
     "ename": "",
     "evalue": "",
     "output_type": "error",
     "traceback": [
      "\u001b[1;31mThe Kernel crashed while executing code in the current cell or a previous cell. \n",
      "\u001b[1;31mPlease review the code in the cell(s) to identify a possible cause of the failure. \n",
      "\u001b[1;31mClick <a href='https://aka.ms/vscodeJupyterKernelCrash'>here</a> for more info. \n",
      "\u001b[1;31mView Jupyter <a href='command:jupyter.viewOutput'>log</a> for further details."
     ]
    }
   ],
   "source": [
    "from turtle import *\n",
    "tracer(0)\n",
    "pendown()\n",
    "k = 10\n",
    "lt(90)\n",
    "for i in range(8):\n",
    "    rt(45)\n",
    "    fd(6*k)\n",
    "penup()\n",
    "for x in range(-10, 60): # Перебираем диапазон координат по оси X\n",
    "    for y in range(-10, 100): # Перебираем диапазон координат по оси Y\n",
    "        goto(x * k, y * k) # Перемещаемся к точке (x * k, y * k)\n",
    "        dot(3, \"red\") # Рисуем точку красного цвета радиусом 3 пикселя\n",
    "done()\n",
    "exit()"
   ]
  },
  {
   "cell_type": "code",
   "execution_count": 10,
   "metadata": {},
   "outputs": [
    {
     "name": "stdout",
     "output_type": "stream",
     "text": [
      "2.476795162509448\n"
     ]
    }
   ],
   "source": [
    "t = (((50 * 1024)*1024)*8) / (44100 * 32 * 2) \n",
    "r = t / 60\n",
    "print(r)"
   ]
  }
 ],
 "metadata": {
  "kernelspec": {
   "display_name": "Python 3",
   "language": "python",
   "name": "python3"
  },
  "language_info": {
   "codemirror_mode": {
    "name": "ipython",
    "version": 3
   },
   "file_extension": ".py",
   "mimetype": "text/x-python",
   "name": "python",
   "nbconvert_exporter": "python",
   "pygments_lexer": "ipython3",
   "version": "3.10.2"
  }
 },
 "nbformat": 4,
 "nbformat_minor": 2
}
