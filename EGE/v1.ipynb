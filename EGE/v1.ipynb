{
 "cells": [
  {
   "cell_type": "code",
   "execution_count": null,
   "metadata": {},
   "outputs": [
    {
     "name": "stdout",
     "output_type": "stream",
     "text": [
      "0 0 0 0 True\n",
      "0 0 0 1 False\n",
      "0 0 1 0 True\n",
      "0 0 1 1 True\n",
      "0 1 0 0 False\n",
      "0 1 0 1 True\n",
      "0 1 1 0 True\n",
      "0 1 1 1 True\n",
      "1 0 0 0 True\n",
      "1 0 0 1 True\n",
      "1 0 1 0 True\n",
      "1 0 1 1 True\n",
      "1 1 0 0 False\n",
      "1 1 0 1 True\n",
      "1 1 1 0 True\n",
      "1 1 1 1 True\n"
     ]
    }
   ],
   "source": [
    "print('x y z w F')\n",
    "for x in range(0, 2):\n",
    "    for y in range(0, 2):\n",
    "        for z in range(0, 2):\n",
    "            for w in range(0, 2):\n",
    "                F = ((1 == w) == (not((w and x) or y)))<= z          #((1≡w)≡(¬((w∧x)∨y)))→z \n",
    "                print(x, y, z, w, F)\n",
    "                "
   ]
  }
 ],
 "metadata": {
  "kernelspec": {
   "display_name": "Python 3",
   "language": "python",
   "name": "python3"
  },
  "language_info": {
   "codemirror_mode": {
    "name": "ipython",
    "version": 3
   },
   "file_extension": ".py",
   "mimetype": "text/x-python",
   "name": "python",
   "nbconvert_exporter": "python",
   "pygments_lexer": "ipython3",
   "version": "3.10.2"
  }
 },
 "nbformat": 4,
 "nbformat_minor": 2
}
