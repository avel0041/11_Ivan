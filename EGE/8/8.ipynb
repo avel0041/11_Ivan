{
 "cells": [
  {
   "cell_type": "markdown",
   "metadata": {},
   "source": [
    "Все 4-⁠буквенные слова, составленные из букв В, Л, Т, У, записаны в алфавитном порядке и пронумерованы.\n",
    "\n",
    "Вот начало списка:\n",
    "\n",
    "1.  ВВВВ\n",
    "\n",
    "2.  ВВВЛ\n",
    "\n",
    "3.  ВВВТ\n",
    "\n",
    "4.  ВВВУ\n",
    "\n",
    "...\n",
    "\n",
    " \n",
    "\n",
    "Запишите слово, которое стоит под номером 75."
   ]
  },
  {
   "cell_type": "code",
   "execution_count": 11,
   "metadata": {},
   "outputs": [
    {
     "name": "stdout",
     "output_type": "stream",
     "text": [
      "('Л', 'В', 'Т', 'Т')\n"
     ]
    }
   ],
   "source": [
    "from itertools import product\n",
    "a = list(product('ВЛТУ', repeat=4))\n",
    "print(a[74]) "
   ]
  },
  {
   "cell_type": "markdown",
   "metadata": {},
   "source": [
    "Шифр кодового замка представляет собой последовательность из пяти символов, каждый из которых является цифрой от 1 до 4. Сколько различных вариантов шифра можно задать, если известно, что цифра 1 встречается ровно два раза, а каждая из других допустимых цифр может встречаться в шифре любое количество раз или не встречаться совсем?"
   ]
  },
  {
   "cell_type": "code",
   "execution_count": 2,
   "metadata": {},
   "outputs": [
    {
     "name": "stdout",
     "output_type": "stream",
     "text": [
      "270\n"
     ]
    }
   ],
   "source": [
    "from itertools import product\n",
    "a = list(product('1234', repeat=5))\n",
    "c = 0 \n",
    "for el in a:\n",
    "    b = el.count('1')\n",
    "    if b == 2: # == ровно 2 раза\n",
    "        c += 1\n",
    "print(c)"
   ]
  },
  {
   "cell_type": "markdown",
   "metadata": {},
   "source": [
    "Михаил составляет 5-⁠буквенные коды. В кодах разрешается использовать только буквы А, Б, В, Г, Д, при этом код не может начинаться с гласной и не может содержать двух одинаковых букв подряд. Сколько различных кодов может составить Михаил?"
   ]
  },
  {
   "cell_type": "code",
   "execution_count": 4,
   "metadata": {},
   "outputs": [
    {
     "name": "stdout",
     "output_type": "stream",
     "text": [
      "1024\n"
     ]
    }
   ],
   "source": [
    "from itertools import product \n",
    "a = list(product('абвгд', repeat=5))\n",
    "c = 0\n",
    "for el in a:\n",
    "    if el[0] != 'а':\n",
    "        f = 0\n",
    "        for i in range(0, len(el)-1):\n",
    "            if el[i] == el[i+1]:\n",
    "                f = 1\n",
    "                break\n",
    "        if f == 0:\n",
    "            c +=1\n",
    "\n",
    "print(c) "
   ]
  },
  {
   "cell_type": "markdown",
   "metadata": {},
   "source": [
    "Алиса составляет 6-⁠буквенные слова из букв М, А, Н, Г, У, С, Т. Каждая из букв может встречаться сколько угодно раз, причём первой буквой не может быть А, буква У должна встречаться не менее 1 раза. Также в записи должны быть ровно две буквы М.\n",
    "\n",
    "Сколько различных слов может составить Алиса?"
   ]
  },
  {
   "cell_type": "code",
   "execution_count": 8,
   "metadata": {},
   "outputs": [
    {
     "name": "stdout",
     "output_type": "stream",
     "text": [
      "9155\n",
      "9155\n"
     ]
    }
   ],
   "source": [
    "from itertools import product \n",
    "a = list (product('мангуст', repeat=6))\n",
    "c = 0\n",
    "for el in a:\n",
    "    if el[0] != 'а' and el.count('у') >= 1 and el.count('м') == 2:\n",
    "        c += 1\n",
    "print(c)\n",
    "        \n",
    "c1 = 0\n",
    "for el1 in a:\n",
    "    if el1[0] != 'а':\n",
    "        c2 = 0\n",
    "        c3 = 0\n",
    "        for el2 in el1:\n",
    "            if el2 == 'у':\n",
    "                c2 += 1\n",
    "            if el2 == 'м':\n",
    "                c3 += 1\n",
    "        if c2 >= 1 and c3 == 2:\n",
    "            c1 += 1\n",
    "        \n",
    "        \n",
    "print(c1)        "
   ]
  },
  {
   "cell_type": "markdown",
   "metadata": {},
   "source": [
    "Определите количество восьмизначных 15-⁠ричных чисел, в записи которых ровно два нуля и не более четырёх цифр, для записи которых используются буквы."
   ]
  },
  {
   "cell_type": "code",
   "execution_count": null,
   "metadata": {},
   "outputs": [
    {
     "name": "stdout",
     "output_type": "stream",
     "text": [
      "154248381\n"
     ]
    }
   ],
   "source": []
  },
  {
   "cell_type": "markdown",
   "metadata": {},
   "source": [
    "Сколько существует различных четырёхзначных чисел, записанных в семеричной системе счисления, в записи которых цифры следуют слева направо в строго убывающем порядке?"
   ]
  },
  {
   "cell_type": "code",
   "execution_count": null,
   "metadata": {},
   "outputs": [
    {
     "name": "stdout",
     "output_type": "stream",
     "text": [
      "35\n"
     ]
    }
   ],
   "source": []
  },
  {
   "cell_type": "markdown",
   "metadata": {},
   "source": [
    "Найдите количество пятизначных восьмеричных чисел, в которых все цифры различны и никакие две четные или нечетные не стоят рядом."
   ]
  },
  {
   "cell_type": "code",
   "execution_count": null,
   "metadata": {},
   "outputs": [
    {
     "name": "stdout",
     "output_type": "stream",
     "text": [
      "504\n"
     ]
    }
   ],
   "source": [
    " "
   ]
  }
 ],
 "metadata": {
  "kernelspec": {
   "display_name": "Python 3",
   "language": "python",
   "name": "python3"
  },
  "language_info": {
   "codemirror_mode": {
    "name": "ipython",
    "version": 3
   },
   "file_extension": ".py",
   "mimetype": "text/x-python",
   "name": "python",
   "nbconvert_exporter": "python",
   "pygments_lexer": "ipython3",
   "version": "3.10.2"
  }
 },
 "nbformat": 4,
 "nbformat_minor": 2
}
