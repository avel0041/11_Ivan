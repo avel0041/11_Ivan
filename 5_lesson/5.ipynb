{
 "cells": [
  {
   "cell_type": "markdown",
   "metadata": {},
   "source": [
    "### Цикл for"
   ]
  },
  {
   "cell_type": "code",
   "execution_count": 10,
   "metadata": {},
   "outputs": [
    {
     "name": "stdout",
     "output_type": "stream",
     "text": [
      "1\n",
      "2\n",
      "3\n",
      "1\n",
      "3\n",
      "1\n",
      "2\n",
      "3\n"
     ]
    }
   ],
   "source": [
    "a = [1, 2, 3]\n",
    "\n",
    "# для каждого элемента из массива:\n",
    "#   сделай это\n",
    "\n",
    "\n",
    "for el in a:       # el(любая буква) = элемента for = для\n",
    "    print(el)\n",
    "\n",
    "for i in range(0,3,2): # от 0 до 3 и 3 не вкл. точно также как со срезами \n",
    "    print(a[i])\n",
    "\n",
    "for i in range(0, len(a)): # (0, len(a)) от 0 до длины, длина не вкл.\n",
    "    print(a[i])"
   ]
  },
  {
   "cell_type": "markdown",
   "metadata": {},
   "source": [
    "### Задание\n",
    "1. Найти максимальный элемент в массиве 'a' с помощью цикла for  \n",
    "2. Найти количество положительных чисел в массиве a\n",
    "3. Найти сумму всех чисел в массиве а\n",
    "4. Найти среднее значение\n",
    "5. Найти количество букв 'D' в массиве b\n",
    "6. Найти максимальное количество подряд идущих букв D в массиве b "
   ]
  },
  {
   "cell_type": "code",
   "execution_count": 6,
   "metadata": {},
   "outputs": [],
   "source": [
    "a = [1, 2, -2, -99, 10, 98, -423, 45, -1, 0, 777]\n",
    "#1\n",
    "max = a[0]\n",
    "# o = 0                  так можно делать но это для цикла while\n",
    "# for el in a:         \n",
    "#     if max < a[o]:\n",
    "#        max = a[o]\n",
    "#     o = o + 1 \n",
    "# print(max)\n",
    "\n",
    "max = a[0]\n",
    "for el in a:\n",
    "    if max < el:\n",
    "       max = el\n",
    "print(max)\n",
    "\n",
    "for i in range(len(a)):\n",
    "    if max < a[i]:\n",
    "        max = a[i]\n",
    "print(max)\n",
    "\n",
    "zero = 0\n",
    "for el in a:\n",
    " if el > 0:\n",
    "  zero = zero + 1 \n",
    "print(zero)\n",
    "\n",
    "zero = 0\n",
    "for el in a:\n",
    "  zero = zero + el\n",
    "print(zero)\n",
    "\n",
    "a = [1, 2, -2, -99, 10, 98, -423, 45, -1, 0, 777] #len(a) длина масcива\n",
    "d = 0\n",
    "for el in a:\n",
    "  d = d + el\n",
    "print(d / len(a))\n",
    "\n",
    "\n",
    "b = list('AAASFHGASKUFHSALIDNJSIBHSAWWWDDDDDDDORERWOWQOPJNSKJNCUGOAYGLIXNHUWGQIYUGCVKQWGXVYUWQFCXVVJHBJHXVKSYAKVCHBSABUIXGHSYAGFDUYVWQLJBUIQHDUVHBXJHBYGDUYWVQLDBLJKBJVCBVZCNBVCJHOIWUTIYUQWFJGHVMHNBXKJHAGKSFJHDGGVkVKSAHDVKASHVDYFDKHBGWQYUGKHJVBSDDDDDDDDDDDDDDDDDDDDDASDSAKHDBKYWGUYGKSAKJHCVKJYVKUYDGWQKUGKSJHXVKCFKUVQYGBXLUHLIBUQGYDVFWDGBOIUGOT')\n",
    "#5\n",
    "print(b.count('D'))\n",
    "\n",
    "zero = 0\n",
    "for el in b:\n",
    " if el == 'D':\n",
    "  zero = zero + 1\n",
    "print(zero)\n",
    "\n",
    "\n",
    "b = list('DDDDDBVDDDDYU')\n",
    "zero = 0\n",
    "# a = []\n",
    "max_d = 0\n",
    "for i in range(0, len(b) - 1): # (0, len(b) ) нужно так (0, len(b) - 1) = len - 1 . ТЕКСТ{1}\n",
    "  if b[i] == 'D' and b[i] == b[i + 1]:                                            \n",
    "    zero = zero + 1                                                               \n",
    "  else:\n",
    "    if zero > max_d: #max_d хранит наибольшее значение счетчика\n",
    "      max_d = zero\n",
    "    #a.append(zero) #закидываем зеро в массив a = []\n",
    "    zero = 0 #обнуление счетчика букв D\n",
    "    \n",
    "print(max_d + 1)\n",
    "\n",
    "\n",
    "\n",
    "a = [2, 5, 3]\n",
    "# Цикл возьмёт индексы 0 1 2 а не 1 2 3                                            ТЕКСТ{1}\n",
    "# Если выводить a[i+1], то цикл будет выводить элементы с индексами 1 2 3\n",
    "for i in range(0, len(a)): # len длина массива 3\n",
    "  print(a[i+1])"
   ]
  },
  {
   "cell_type": "code",
   "execution_count": null,
   "metadata": {},
   "outputs": [],
   "source": []
  }
 ],
 "metadata": {
  "kernelspec": {
   "display_name": "Python 3",
   "language": "python",
   "name": "python3"
  },
  "language_info": {
   "codemirror_mode": {
    "name": "ipython",
    "version": 3
   },
   "file_extension": ".py",
   "mimetype": "text/x-python",
   "name": "python",
   "nbconvert_exporter": "python",
   "pygments_lexer": "ipython3",
   "version": "3.10.2"
  }
 },
 "nbformat": 4,
 "nbformat_minor": 2
}
