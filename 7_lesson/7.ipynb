{
 "cells": [
  {
   "attachments": {
    "image.png": {
     "image/png": "[encoded data removed]"
    }
   },
   "cell_type": "markdown",
   "metadata": {},
   "source": [
    "![image.png](attachment:image.png)"
   ]
  },
  {
   "cell_type": "code",
   "execution_count": null,
   "metadata": {},
   "outputs": [
    {
     "name": "stdout",
     "output_type": "stream",
     "text": [
      "35\n"
     ]
    }
   ],
   "source": [
    "# f = open('24.txt') # Записываем файл в переменную f\n",
    "# a = f.readline() # Считываем первую строку из файла\n",
    "# # Если в файле > 1 строка, то необходимо использовать f.readlines(), которое поместит все строки в массив\n",
    "# print(a)\n",
    "\n",
    "# b = list('DDDDDBVDDDDYU')                                                                                  массив но в этом задание не обязательно \n",
    "# zero = 0\n",
    "# # a = []\n",
    "# max_d = 0\n",
    "# for i in range(0, len(b) - 1): # (0, len(b) ) нужно так (0, len(b) - 1) = len - 1 . ТЕКСТ{1}\n",
    "#   if b[i] == 'D' and b[i] == b[i + 1]:                                            \n",
    "#     zero = zero + 1                                                               \n",
    "#   else:\n",
    "#     if zero > max_d: #max_d хранит наибольшее значение счетчика\n",
    "#       max_d = zero\n",
    "#     #a.append(zero) #закидываем зеро в массив a = []\n",
    "#     zero = 0 #обнуление счетчика букв D\n",
    "    \n",
    "# print(max_d + 1)\n",
    "\n",
    "f = open('24.txt')\n",
    "a = f.readline() \n",
    "counter = 1                                                            #1 в счетчике при идущих подряд из-за того что первую нужно учесть\n",
    "max_d = 0\n",
    "for i in range(0, len(a) - 1): # [0, 1, 2, 3, 4, ..., len(a) - 2]\n",
    "    if a[i] != a[i + 1]:\n",
    "        counter += 1  # тоже самое, что и counter = counter + 1        \n",
    "    else:\n",
    "        if counter > max_d:\n",
    "            max_d = counter \n",
    "        counter = 1\n",
    "print(max_d)\n",
    "\n"
   ]
  },
  {
   "cell_type": "code",
   "execution_count": 8,
   "metadata": {},
   "outputs": [
    {
     "name": "stdout",
     "output_type": "stream",
     "text": [
      "['1', ' ', '2', ' ', '3', ' ', '4', ' ', '5']\n",
      "['1', '2', '3', '4', '5']\n"
     ]
    }
   ],
   "source": [
    "a = '1 2 3 4 5'\n",
    "b = list('1 2 3 4 5')\n",
    "print(b)\n",
    "a = a.split()\n",
    "print(a)"
   ]
  },
  {
   "cell_type": "code",
   "execution_count": null,
   "metadata": {},
   "outputs": [
    {
     "name": "stdout",
     "output_type": "stream",
     "text": [
      "35\n"
     ]
    }
   ],
   "source": [
    "f = open('24.txt')\n",
    "a = f.readline() \n",
    "\n",
    "a = a.replace('XX', 'X X ')\n",
    "a = a.replace('YY', 'Y Y ')\n",
    "a = a.replace('ZZ', 'Z Z ')\n",
    "\n",
    "b = a.split()\n",
    "\n",
    "# c = [9,6,44]\n",
    "# max_c = max(c) #max максимальный элемент\n",
    "# print(max_c)\n",
    "\n",
    "\n",
    "max_d = max(b, key=len)\n",
    "print(len(max_d))"
   ]
  }
 ],
 "metadata": {
  "kernelspec": {
   "display_name": "Python 3",
   "language": "python",
   "name": "python3"
  },
  "language_info": {
   "codemirror_mode": {
    "name": "ipython",
    "version": 3
   },
   "file_extension": ".py",
   "mimetype": "text/x-python",
   "name": "python",
   "nbconvert_exporter": "python",
   "pygments_lexer": "ipython3",
   "version": "3.10.2"
  }
 },
 "nbformat": 4,
 "nbformat_minor": 2
}
