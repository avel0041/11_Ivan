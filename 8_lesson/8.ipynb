{
 "cells": [
  {
   "cell_type": "markdown",
   "metadata": {},
   "source": [
    "### Функции"
   ]
  },
  {
   "cell_type": "code",
   "execution_count": null,
   "metadata": {},
   "outputs": [],
   "source": [
    "def summa(a, b, c):\n",
    "    return a + b + c\n",
    "\n",
    "\n",
    "\n",
    "a = summa(1, 5, 6)\n",
    "print(a)"
   ]
  },
  {
   "cell_type": "code",
   "execution_count": 4,
   "metadata": {},
   "outputs": [],
   "source": [
    "def f(a, p):\n",
    "    s = ''\n",
    "    while a > 0:\n",
    "        s = s + str(a%p)\n",
    "        a = a//p\n",
    "    s = s[::-1]\n",
    "    return s\n",
    "\n",
    "\n",
    "c = f(194, 6)\n",
    "print(c)\n",
    "\n",
    "c = f(194, 3)\n",
    "print(c)"
   ]
  }
 ],
 "metadata": {
  "kernelspec": {
   "display_name": "Python 3",
   "language": "python",
   "name": "python3"
  },
  "language_info": {
   "codemirror_mode": {
    "name": "ipython",
    "version": 3
   },
   "file_extension": ".py",
   "mimetype": "text/x-python",
   "name": "python",
   "nbconvert_exporter": "python",
   "pygments_lexer": "ipython3",
   "version": "3.10.2"
  }
 },
 "nbformat": 4,
 "nbformat_minor": 2
}
