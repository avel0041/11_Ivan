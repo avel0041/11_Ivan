{
 "cells": [
  {
   "cell_type": "code",
   "execution_count": 1,
   "metadata": {},
   "outputs": [
    {
     "name": "stdout",
     "output_type": "stream",
     "text": [
      "8811\n"
     ]
    }
   ],
   "source": [
    "s = '1' * 82 #done\n",
    "while '11111' in s or '888' in s:\n",
    "    if '11111' in s:\n",
    "        s = s.replace('11111', '88', 1)\n",
    "    else:\n",
    "        if '888' in s:\n",
    "            s = s.replace('888', '8', 1)\n",
    "print(s)"
   ]
  },
  {
   "cell_type": "code",
   "execution_count": null,
   "metadata": {},
   "outputs": [
    {
     "name": "stdout",
     "output_type": "stream",
     "text": [
      "39\n"
     ]
    }
   ],
   "source": [
    "s = '1' + '9' * 100\n",
    "\n",
    "while '19' in s or '299' in s or '3999' in s:\n",
    "    if '19' in s:\n",
    "        s = s.replace('19', '2', 1)\n",
    "    if '299' in s:\n",
    "        s = s.replace('299', '3', 1)\n",
    "    if '3999' in s:\n",
    "        s = s.replace('3999', '1', 1)\n",
    "print(s)"
   ]
  },
  {
   "cell_type": "markdown",
   "metadata": {},
   "source": [
    "Дана строка s (вводит пользователь):\n",
    "1. Определить количество цифр 8 в ней\n",
    "2. Определить количество букв 'A' в первых 10 символах этой строки (Подсказка: используй срезы)\n",
    "3. Если в строке нашлась цифра 1 и цифра 9, то заменить все цифры 9 на 0\n",
    "4. Если предпоследний символ строки - буква F, то заменить его на Q"
   ]
  },
  {
   "cell_type": "code",
   "execution_count": null,
   "metadata": {},
   "outputs": [
    {
     "name": "stdout",
     "output_type": "stream",
     "text": [
      "2\n"
     ]
    }
   ],
   "source": [
    "s = input()     \n",
    "#№1        \n",
    "# c = 0\n",
    "# for el in s:\n",
    "#     if el == '8':\n",
    "#         c += 1\n",
    "# print(c)\n",
    "\n",
    "print(s.count('8'))\n"
   ]
  },
  {
   "cell_type": "code",
   "execution_count": 12,
   "metadata": {},
   "outputs": [
    {
     "name": "stdout",
     "output_type": "stream",
     "text": [
      "0\n"
     ]
    }
   ],
   "source": [
    "#№2\n",
    "s = input() \n",
    "f = s[0: 10: 1]\n",
    "a = f.count('A')\n",
    "print(a)\n"
   ]
  },
  {
   "cell_type": "code",
   "execution_count": 15,
   "metadata": {},
   "outputs": [
    {
     "name": "stdout",
     "output_type": "stream",
     "text": [
      "187460000\n"
     ]
    }
   ],
   "source": [
    "#№3\n",
    "s = input() \n",
    "if '1' in s and '9' in s:\n",
    "    s = s.replace('9', '0')\n",
    "print(s)"
   ]
  },
  {
   "cell_type": "code",
   "execution_count": null,
   "metadata": {},
   "outputs": [
    {
     "name": "stdout",
     "output_type": "stream",
     "text": [
      "ABCDEQQ\n"
     ]
    }
   ],
   "source": [
    "#№4\n",
    "s = input() #ABCDEFG\n",
    "a = len(s) #7\n",
    "if s[a - 2] == 'F': # or s[-2]\n",
    "    c = list(s)\n",
    "    c[a - 2] = 'Q'\n",
    "    s = ''.join(c)\n",
    "    # s = s[0:a-2:1]+'Q'+s[-1]\n",
    "print(s)\n",
    "\n"
   ]
  }
 ],
 "metadata": {
  "kernelspec": {
   "display_name": "Python 3",
   "language": "python",
   "name": "python3"
  },
  "language_info": {
   "codemirror_mode": {
    "name": "ipython",
    "version": 3
   },
   "file_extension": ".py",
   "mimetype": "text/x-python",
   "name": "python",
   "nbconvert_exporter": "python",
   "pygments_lexer": "ipython3",
   "version": "3.10.2"
  }
 },
 "nbformat": 4,
 "nbformat_minor": 2
}
