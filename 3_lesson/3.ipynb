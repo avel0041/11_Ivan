{
 "cells": [
  {
   "cell_type": "markdown",
   "metadata": {},
   "source": [
    "### Вводный урок Python"
   ]
  },
  {
   "cell_type": "markdown",
   "metadata": {},
   "source": [
    "#### Переменная"
   ]
  },
  {
   "cell_type": "code",
   "execution_count": 3,
   "metadata": {},
   "outputs": [
    {
     "name": "stdout",
     "output_type": "stream",
     "text": [
      "2\n",
      "5\n"
     ]
    }
   ],
   "source": [
    "a = 1\n",
    "b = 4\n",
    "a = 2\n",
    "c = a\n",
    "print(c) \n",
    "\n",
    "c = c + 3\n",
    "print(c)\n"
   ]
  },
  {
   "cell_type": "markdown",
   "metadata": {},
   "source": [
    "##### Задача  \n",
    "Поменяй значения переменных местами"
   ]
  },
  {
   "cell_type": "code",
   "execution_count": 12,
   "metadata": {},
   "outputs": [
    {
     "name": "stdout",
     "output_type": "stream",
     "text": [
      "7\n",
      "4\n"
     ]
    }
   ],
   "source": [
    "a = 4\n",
    "b = 7\n",
    "\n",
    "c = a # Создаем буфер (хранилицще) для переменной a  # b = a не правильно\n",
    "a = b # Записываем                                   # a = b не правильно\n",
    "b = c\n",
    "\n",
    "a, b = b, a\n",
    "\n",
    "print(a)\n",
    "print(b)\n"
   ]
  },
  {
   "cell_type": "markdown",
   "metadata": {},
   "source": [
    "#### Операции с переменными"
   ]
  },
  {
   "cell_type": "code",
   "execution_count": 20,
   "metadata": {},
   "outputs": [
    {
     "name": "stdout",
     "output_type": "stream",
     "text": [
      "43\n",
      "421\n"
     ]
    }
   ],
   "source": [
    "a = 3\n",
    "b = 4\n",
    "\n",
    "c = a+b\n",
    "c = a-b\n",
    "c = a*b    \n",
    "c = a/b\n",
    "\n",
    "c = a**b # Возведение в степень\n",
    "c = a%b # Остаток от деления  (13 mod 5 = 3)\n",
    "c = a//b # Целочисленное деление (13 div 5 = 2)\n",
    "\n",
    "a = 1\n",
    "b = '42'\n",
    "b = int(b) # Преобразование в целочисленное значение\n",
    "c = a + b\n",
    "print(c)\n",
    "\n",
    "d = 1\n",
    "e = '42'\n",
    "d = str(d) # Преобразование в строку\n",
    "v = d + e\n",
    "print(v)"
   ]
  },
  {
   "cell_type": "markdown",
   "metadata": {},
   "source": [
    "#### Пользовательский ввод"
   ]
  },
  {
   "cell_type": "code",
   "execution_count": 23,
   "metadata": {},
   "outputs": [
    {
     "name": "stdout",
     "output_type": "stream",
     "text": [
      "9\n"
     ]
    }
   ],
   "source": [
    "a = input() # Ввод переменной. Переменная после ввода будет типа str = ' \n",
    "b = input() # Ввод переменной\n",
    "b = int(b)\n",
    "a = int(a)\n",
    "c = b + a\n",
    "print(c)"
   ]
  },
  {
   "cell_type": "markdown",
   "metadata": {},
   "source": [
    "##### Задача\n",
    "Подсчитай сколько дней, часов, минут и секунд в указанном количестве секунд."
   ]
  },
  {
   "cell_type": "code",
   "execution_count": null,
   "metadata": {},
   "outputs": [],
   "source": [
    "# 100 секунд -> 0 0 1 40\n",
    "# 4000 секунд -> 0 1 6 40\n",
    "a = 100\n",
    "b = 60\n",
    "c = a//b #минута \n",
    "g = a%b #секунды \n",
    "print(i)\n",
    "print(g)\n",
    "\n",
    "a = 4000\n",
    "b = 60\n",
    "f = 3600\n",
    "\n",
    "\n",
    "# можно было \n",
    "# print(a//3600)\n",
    "# print(a//60%60)\n",
    "# print(a%60) \n",
    "c = a//f #час \n",
    "h = a%f #секунды от часа\n",
    "j = h//b #минуты \n",
    "l = h%b #секунды\n",
    "print(c)\n",
    "print(j)\n",
    "print(l)\n",
    "print(1, 2)"
   ]
  },
  {
   "cell_type": "markdown",
   "metadata": {},
   "source": [
    "#### Работа с print()"
   ]
  },
  {
   "cell_type": "code",
   "execution_count": 6,
   "metadata": {},
   "outputs": [
    {
     "name": "stdout",
     "output_type": "stream",
     "text": [
      "3.5\n",
      "DASDSAA\n",
      "\n",
      "1\n",
      "1 2 3\n",
      "1,2,3\n",
      "123\n"
     ]
    }
   ],
   "source": [
    "print(1/2+3)\n",
    "print(\"DASDSAA\")\n",
    "print()\n",
    "print(1)\n",
    "print(1,2,3)\n",
    "print(1, 2, 3, sep=',')  \n",
    "print(1, 2, 3, sep=' ')\n",
    "\n"
   ]
  },
  {
   "cell_type": "markdown",
   "metadata": {},
   "source": [
    "#### Условный оператор"
   ]
  },
  {
   "cell_type": "code",
   "execution_count": 13,
   "metadata": {},
   "outputs": [
    {
     "name": "stdout",
     "output_type": "stream",
     "text": [
      "a не равно 0\n",
      "a больше 0\n",
      "a больше или равно 0\n",
      "the end\n",
      "Ничего не выполнилось :(\n"
     ]
    }
   ],
   "source": [
    "a = 8\n",
    "b = 1\n",
    "if a == 0:\n",
    "    print('a равно 0')\n",
    "if a != 0:\n",
    "    print('a не равно 0')\n",
    "if a > 0:\n",
    "    print('a больше 0')\n",
    "if a >= 0:\n",
    "    print('a больше или равно 0')\n",
    "if a < 0:\n",
    "    print('a меньше 0')\n",
    "if a <= 0:\n",
    "    print('a меньше или равно 0')\n",
    "\n",
    "if a%5==0: #Проверка а на кратность 5\n",
    "    # Если проверка прошла, то выполняется код с отступами. Если нет, то код с отступами пропускается\n",
    "    print(1)\n",
    "    if b == 1: #проверка b на равенство 1 \n",
    "        print(3)\n",
    "        \n",
    "print(\"the end\")   # тоже зависит от отступа\n",
    "\n",
    "\n",
    "a = 1\n",
    "u = 0\n",
    "if a%6==0:\n",
    "    u = 5\n",
    "    print(f'Число {a} кратно 6')  #f форматированый вывод\n",
    "elif a%3==0: # Иначе если elif\n",
    "    u = 10\n",
    "    print(f'Число {a} кратно 3')\n",
    "elif a%2==0:\n",
    "    u = 8\n",
    "    print(f'Число {a} кратно 2')\n",
    "else:\n",
    "    u = 9\n",
    "    print('Ничего не выполнилось :(')\n",
    "\n",
    "\n"
   ]
  },
  {
   "cell_type": "markdown",
   "metadata": {},
   "source": [
    "Безумный титан Танос собрал все 6 камней бесконечности и намеревается уничтожить половину населения Вселенной по щелчку пальцев. При этом если население Вселенной является нечетным числом, то титан проявит милосердие и округлит количество выживших в большую сторону. Помогите Мстителям подсчитать количество выживших."
   ]
  },
  {
   "cell_type": "code",
   "execution_count": null,
   "metadata": {},
   "outputs": [
    {
     "name": "stdout",
     "output_type": "stream",
     "text": [
      "4.0\n"
     ]
    }
   ],
   "source": [
    "a = int(input()) # Тоже самое, что и a = input() a = int(a)      \n",
    "if a%2==1: #if если\n",
    "    b = a+1\n",
    "    c = b/2\n",
    "    print(c)\n",
    "else:       #else иначе от if\n",
    "    b = a/2\n",
    "    print(b)"
   ]
  },
  {
   "cell_type": "markdown",
   "metadata": {},
   "source": [
    "#### Строки"
   ]
  },
  {
   "cell_type": "code",
   "execution_count": null,
   "metadata": {},
   "outputs": [],
   "source": []
  },
  {
   "cell_type": "markdown",
   "metadata": {},
   "source": [
    "#### Операции со строками"
   ]
  },
  {
   "cell_type": "code",
   "execution_count": null,
   "metadata": {},
   "outputs": [],
   "source": []
  }
 ],
 "metadata": {
  "kernelspec": {
   "display_name": "Python 3",
   "language": "python",
   "name": "python3"
  },
  "language_info": {
   "codemirror_mode": {
    "name": "ipython",
    "version": 3
   },
   "file_extension": ".py",
   "mimetype": "text/x-python",
   "name": "python",
   "nbconvert_exporter": "python",
   "pygments_lexer": "ipython3",
   "version": "3.10.2"
  }
 },
 "nbformat": 4,
 "nbformat_minor": 2
}
