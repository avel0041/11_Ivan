{
 "cells": [
  {
   "cell_type": "markdown",
   "metadata": {},
   "source": [
    "### Вводный урок Python"
   ]
  },
  {
   "cell_type": "markdown",
   "metadata": {},
   "source": [
    "#### Переменная"
   ]
  },
  {
   "cell_type": "code",
   "execution_count": 3,
   "metadata": {},
   "outputs": [
    {
     "name": "stdout",
     "output_type": "stream",
     "text": [
      "2\n",
      "5\n"
     ]
    }
   ],
   "source": [
    "a = 1\n",
    "b = 4\n",
    "a = 2\n",
    "c = a\n",
    "print(c) \n",
    "\n",
    "c = c + 3\n",
    "print(c)\n"
   ]
  },
  {
   "cell_type": "markdown",
   "metadata": {},
   "source": [
    "##### Задача  \n",
    "Поменяй значения переменных местами"
   ]
  },
  {
   "cell_type": "code",
   "execution_count": 12,
   "metadata": {},
   "outputs": [
    {
     "name": "stdout",
     "output_type": "stream",
     "text": [
      "7\n",
      "4\n"
     ]
    }
   ],
   "source": [
    "a = 4\n",
    "b = 7\n",
    "\n",
    "c = a # Создаем буфер (хранилицще) для переменной a  # b = a не правильно\n",
    "a = b # Записываем                                   # a = b не правильно\n",
    "b = c\n",
    "\n",
    "a, b = b, a\n",
    "\n",
    "print(a)\n",
    "print(b)\n"
   ]
  },
  {
   "cell_type": "markdown",
   "metadata": {},
   "source": [
    "#### Операции с переменными"
   ]
  },
  {
   "cell_type": "code",
   "execution_count": 20,
   "metadata": {},
   "outputs": [
    {
     "name": "stdout",
     "output_type": "stream",
     "text": [
      "43\n",
      "421\n"
     ]
    }
   ],
   "source": [
    "a = 3\n",
    "b = 4\n",
    "\n",
    "c = a+b\n",
    "c = a-b\n",
    "c = a*b    \n",
    "c = a/b\n",
    "\n",
    "c = a**b # Возведение в степень\n",
    "c = a%b # Остаток от деления  (13 mod 5 = 3)\n",
    "c = a//b # Целочисленное деление (13 div 5 = 2)\n",
    "\n",
    "a = 1\n",
    "b = '42'\n",
    "b = int(b) # Преобразование в целочисленное значение\n",
    "c = a + b\n",
    "print(c)\n",
    "\n",
    "d = 1\n",
    "e = '42'\n",
    "d = str(d) # Преобразование в строку\n",
    "v = d + e\n",
    "print(v)"
   ]
  },
  {
   "cell_type": "markdown",
   "metadata": {},
   "source": [
    "#### Пользовательский ввод"
   ]
  },
  {
   "cell_type": "code",
   "execution_count": 23,
   "metadata": {},
   "outputs": [
    {
     "name": "stdout",
     "output_type": "stream",
     "text": [
      "9\n"
     ]
    }
   ],
   "source": [
    "a = input() # Ввод переменной. Переменная после ввода будет типа str = ' \n",
    "b = input() # Ввод переменной\n",
    "b = int(b)\n",
    "a = int(a)\n",
    "c = b + a\n",
    "print(c)"
   ]
  },
  {
   "cell_type": "markdown",
   "metadata": {},
   "source": [
    "##### Задача\n",
    "Подсчитай сколько дней, часов, минут и секунд в указанном количестве секунд."
   ]
  },
  {
   "cell_type": "code",
   "execution_count": null,
   "metadata": {},
   "outputs": [],
   "source": [
    "# 100 секунд -> 0 0 1 40\n",
    "# 4000 секунд -> 0 1 6 40\n",
    "a = 100\n",
    "b = 60\n",
    "c = a//b #минута \n",
    "g = a%b #секунды \n",
    "print(i)\n",
    "print(g)\n",
    "\n",
    "a = 4000\n",
    "b = 60\n",
    "f = 3600\n",
    "\n",
    "\n",
    "# можно было \n",
    "# print(a//3600)\n",
    "# print(a//60%60)\n",
    "# print(a%60) \n",
    "c = a//f #час \n",
    "h = a%f #секунды от часа\n",
    "j = h//b #минуты \n",
    "l = h%b #секунды\n",
    "print(c)\n",
    "print(j)\n",
    "print(l)\n",
    "print(1, 2)"
   ]
  },
  {
   "cell_type": "markdown",
   "metadata": {},
   "source": [
    "#### Работа с print()"
   ]
  },
  {
   "cell_type": "code",
   "execution_count": null,
   "metadata": {},
   "outputs": [
    {
     "name": "stdout",
     "output_type": "stream",
     "text": [
      "3.5\n",
      "DASDSAA\n",
      "\n",
      "1\n",
      "1 2 3\n",
      "1,2,3\n",
      "1 2 3\n"
     ]
    },
    {
     "ename": "TypeError",
     "evalue": "'str' object does not support item assignment",
     "output_type": "error",
     "traceback": [
      "\u001b[1;31m---------------------------------------------------------------------------\u001b[0m",
      "\u001b[1;31mTypeError\u001b[0m                                 Traceback (most recent call last)",
      "Input \u001b[1;32mIn [2]\u001b[0m, in \u001b[0;36m<cell line: 10>\u001b[1;34m()\u001b[0m\n\u001b[0;32m      7\u001b[0m \u001b[38;5;28mprint\u001b[39m(\u001b[38;5;241m1\u001b[39m, \u001b[38;5;241m2\u001b[39m, \u001b[38;5;241m3\u001b[39m, sep\u001b[38;5;241m=\u001b[39m\u001b[38;5;124m'\u001b[39m\u001b[38;5;124m \u001b[39m\u001b[38;5;124m'\u001b[39m)\n\u001b[0;32m      9\u001b[0m s \u001b[38;5;241m=\u001b[39m \u001b[38;5;124m'\u001b[39m\u001b[38;5;124m123\u001b[39m\u001b[38;5;124m'\u001b[39m\n\u001b[1;32m---> 10\u001b[0m s[\u001b[38;5;241m0\u001b[39m] \u001b[38;5;241m=\u001b[39m \u001b[38;5;124m'\u001b[39m\u001b[38;5;124mb\u001b[39m\u001b[38;5;124m'\u001b[39m\n\u001b[0;32m     11\u001b[0m \u001b[38;5;28mprint\u001b[39m(s)\n",
      "\u001b[1;31mTypeError\u001b[0m: 'str' object does not support item assignment"
     ]
    }
   ],
   "source": [
    "print(1/2+3)\n",
    "print(\"DASDSAA\")\n",
    "print()\n",
    "print(1)\n",
    "print(1,2,3)\n",
    "print(1, 2, 3, sep=',')  \n",
    "print(1, 2, 3, sep=' ')\n",
    "\n"
   ]
  },
  {
   "cell_type": "markdown",
   "metadata": {},
   "source": [
    "#### Условный оператор"
   ]
  },
  {
   "cell_type": "code",
   "execution_count": 13,
   "metadata": {},
   "outputs": [
    {
     "name": "stdout",
     "output_type": "stream",
     "text": [
      "a не равно 0\n",
      "a больше 0\n",
      "a больше или равно 0\n",
      "the end\n",
      "Ничего не выполнилось :(\n"
     ]
    }
   ],
   "source": [
    "a = 8\n",
    "b = 1\n",
    "if a == 0:\n",
    "    print('a равно 0')\n",
    "if a != 0:\n",
    "    print('a не равно 0')\n",
    "if a > 0:\n",
    "    print('a больше 0')\n",
    "if a >= 0:\n",
    "    print('a больше или равно 0')\n",
    "if a < 0:\n",
    "    print('a меньше 0')\n",
    "if a <= 0:\n",
    "    print('a меньше или равно 0')\n",
    "\n",
    "if a%5==0: #Проверка а на кратность 5\n",
    "    # Если проверка прошла, то выполняется код с отступами. Если нет, то код с отступами пропускается\n",
    "    print(1)\n",
    "    if b == 1: #проверка b на равенство 1 \n",
    "        print(3)\n",
    "        \n",
    "print(\"the end\")   # тоже зависит от отступа\n",
    "\n",
    "\n",
    "a = 1\n",
    "u = 0\n",
    "if a%6==0:\n",
    "    u = 5\n",
    "    print(f'Число {a} кратно 6')  #f форматированый вывод\n",
    "elif a%3==0: # Иначе если elif\n",
    "    u = 10\n",
    "    print(f'Число {a} кратно 3')\n",
    "elif a%2==0:\n",
    "    u = 8\n",
    "    print(f'Число {a} кратно 2')\n",
    "else:\n",
    "    u = 9\n",
    "    print('Ничего не выполнилось :(')\n",
    "\n",
    "\n"
   ]
  },
  {
   "cell_type": "markdown",
   "metadata": {},
   "source": [
    "Безумный титан Танос собрал все 6 камней бесконечности и намеревается уничтожить половину населения Вселенной по щелчку пальцев. При этом если население Вселенной является нечетным числом, то титан проявит милосердие и округлит количество выживших в большую сторону. Помогите Мстителям подсчитать количество выживших."
   ]
  },
  {
   "cell_type": "code",
   "execution_count": null,
   "metadata": {},
   "outputs": [
    {
     "name": "stdout",
     "output_type": "stream",
     "text": [
      "4.0\n"
     ]
    }
   ],
   "source": [
    "a = int(input()) # Тоже самое, что и a = input() a = int(a)      \n",
    "if a%2==1: #if если\n",
    "    b = a+1\n",
    "    c = b/2\n",
    "    print(c)\n",
    "else:       #else иначе от if\n",
    "    b = a/2\n",
    "    print(b)"
   ]
  },
  {
   "cell_type": "markdown",
   "metadata": {},
   "source": [
    "### ДЗ"
   ]
  },
  {
   "cell_type": "code",
   "execution_count": null,
   "metadata": {},
   "outputs": [],
   "source": [
    "# Было проведено 9 запусков программы, при которых в качестве значений переменных s и t вводились следующие пары чисел:\n",
    "# (9, 10); (11, 5); (–2, 8); (9, 9); (2, 8); (–1, 3); (–4, 5); (10, 9); (4, –3).\n",
    "# Сколько было запусков, при которых программа напечатала «NO»?\n",
    "\n",
    "s = int(input())\n",
    "t = int(input())\n",
    "                \n",
    "if s > 8 and t > 8:\n",
    " \n",
    "    print(\"YES\")\n",
    "else:\n",
    "    print(\"NO\") "
   ]
  },
  {
   "cell_type": "markdown",
   "metadata": {},
   "source": [
    "Введите с клавиатуры 3 положительных целых чисел. Вычислите сумму тех из них, которые делятся на 4 и при этом заканчиваются на 6. Программа должна вывести одно число: сумму чисел, введенных с клавиатуры, кратных 4 и оканчивающихся на 6."
   ]
  },
  {
   "cell_type": "code",
   "execution_count": null,
   "metadata": {},
   "outputs": [],
   "source": []
  },
  {
   "cell_type": "code",
   "execution_count": 7,
   "metadata": {},
   "outputs": [
    {
     "name": "stdout",
     "output_type": "stream",
     "text": [
      "52\n"
     ]
    }
   ],
   "source": [
    "a = int(input())\n",
    "b = int(input())   \n",
    "c = int(input())\n",
    "# f = 0\n",
    "# j = 0\n",
    "# e = 0\n",
    "summ = 0\n",
    "if a%4==0 and a%10==6:\n",
    "    summ = summ + a\n",
    "    # f = a\n",
    "if b%4==0 and b%10==6:\n",
    "    summ = summ + b\n",
    "    # j = b\n",
    "if c%4==0 and c%10==6:\n",
    "    summ = summ + c\n",
    "    # e = c\n",
    "print(summ)\n",
    "#print(f+j+e)"
   ]
  },
  {
   "cell_type": "markdown",
   "metadata": {},
   "source": [
    "Камера наблюдения регистрирует в автоматическом режиме скорость проезжающих мимо нее автомобилей, округляя значения скорости до целых чисел. Камера зафиксировала 3 проезжающих автомобиля и записала их скорости в соответствующие переменные. Необходимо определить минимальную скорость из трёх автомобилей. Если скорость хотя бы одного автомобиля была больше 80 км/ч, выведите «YES», иначе выведите «NO»."
   ]
  },
  {
   "cell_type": "code",
   "execution_count": 8,
   "metadata": {},
   "outputs": [
    {
     "name": "stdout",
     "output_type": "stream",
     "text": [
      "YES\n",
      "40\n"
     ]
    }
   ],
   "source": [
    "a = int(input())\n",
    "b = int(input())   \n",
    "c = int(input())\n",
    "min = 0\n",
    "\n",
    "if a > 80 or b > 80 or c > 80:\n",
    "    print('YES')\n",
    "else: \n",
    "    print('NO')\n",
    "\n",
    "if a > b:\n",
    "    min = b\n",
    "else:\n",
    "    min = a\n",
    "    \n",
    "if min > c:\n",
    "    print(c)\n",
    "else:\n",
    "    print(min)\n",
    "\n",
    "\n"
   ]
  },
  {
   "cell_type": "markdown",
   "metadata": {},
   "source": [
    "#### Знакомство с циклами"
   ]
  },
  {
   "cell_type": "code",
   "execution_count": 9,
   "metadata": {},
   "outputs": [
    {
     "name": "stdout",
     "output_type": "stream",
     "text": [
      "1\n",
      "2\n",
      "1\n",
      "2\n",
      "1\n",
      "2\n",
      "Конец\n"
     ]
    }
   ],
   "source": [
    "i = 0 #счетчик/итератор \n",
    "a = int(input())\n",
    "while i < a:\n",
    "    print(1)\n",
    "    print(2)\n",
    "    i = i + 1\n",
    "print(\"Конец\")\n",
    "    "
   ]
  },
  {
   "cell_type": "markdown",
   "metadata": {},
   "source": [
    "#### Цикл While"
   ]
  },
  {
   "cell_type": "code",
   "execution_count": 10,
   "metadata": {},
   "outputs": [
    {
     "name": "stdout",
     "output_type": "stream",
     "text": [
      "52\n"
     ]
    }
   ],
   "source": [
    "# a = int(input())\n",
    "# b = int(input())   \n",
    "# c = int(input())\n",
    "# # f = 0\n",
    "# # j = 0\n",
    "# # e = 0\n",
    "# summ = 0\n",
    "# if a%4==0 and a%10==6:\n",
    "#     summ = summ + a\n",
    "#     # f = a\n",
    "# if b%4==0 and b%10==6:\n",
    "#     summ = summ + b\n",
    "#     # j = b\n",
    "# if c%4==0 and c%10==6:\n",
    "#     summ = summ + c\n",
    "#     # e = c\n",
    "# print(summ)\n",
    "# #print(f+j+e)\n",
    "\n",
    "i = 0\n",
    "q = int(input()) #Количество итераций цикла\n",
    "summ = 0\n",
    "while i < q:\n",
    "    a = int(input())\n",
    "    if a%4==0 and a%10==6:\n",
    "        summ = summ + a\n",
    "    i = i + 1\n",
    "print(summ)\n",
    "#3 16 36 10 -- Ввод"
   ]
  },
  {
   "cell_type": "code",
   "execution_count": 13,
   "metadata": {},
   "outputs": [
    {
     "name": "stdout",
     "output_type": "stream",
     "text": [
      "1\n",
      "2\n",
      "4\n",
      "8\n",
      "16\n",
      "32\n"
     ]
    }
   ],
   "source": [
    "# Напиши программу, которая выводит степени двойки от 2^0 до 2^n, где n вводит пользователь\n",
    "i = 0\n",
    "n = int(input())\n",
    "while i <= n:\n",
    "    print(2**i)\n",
    "    i = i + 1"
   ]
  },
  {
   "cell_type": "code",
   "execution_count": null,
   "metadata": {},
   "outputs": [
    {
     "name": "stdout",
     "output_type": "stream",
     "text": [
      "120\n"
     ]
    }
   ],
   "source": [
    "# Напиши программу, которая вычисляет факториал числа n, где n вводит пользователь\n",
    "i = 1\n",
    "n = int(input())\n",
    "k = 1\n",
    "while i <= n:\n",
    "    k = k * i\n",
    "    i = i + 1\n",
    "print(k)"
   ]
  },
  {
   "cell_type": "code",
   "execution_count": null,
   "metadata": {},
   "outputs": [],
   "source": [
    "# Напиши программу, которая выводит первые n чисел из последовательности Фибонначи. 1 1 2 3 5 8\n",
    "\n",
    "a = 1\n",
    "b = 1\n",
    "\n",
    "c = a + b\n",
    "a = b\n",
    "b = c"
   ]
  },
  {
   "cell_type": "markdown",
   "metadata": {},
   "source": [
    "### Массивы (Списки)"
   ]
  },
  {
   "cell_type": "code",
   "execution_count": 28,
   "metadata": {},
   "outputs": [
    {
     "name": "stdout",
     "output_type": "stream",
     "text": [
      "a\n",
      "f\n",
      "abcd\n",
      "abcd\n",
      "ac\n",
      "bcde\n",
      "fedcb\n",
      "fedcba\n"
     ]
    }
   ],
   "source": [
    "a = [35, 64, 10, 4, 5] #массив\\склад\n",
    "empty = [] #пустой массив \n",
    "b = a[0] #обратились к элементу с index 0 массиву a \n",
    "print(b)\n",
    "last = a[-1] #Последний элемент списка\n",
    "print(last)\n",
    "\n",
    "srez = a[0:4] # 4 не включительно \n",
    "print(srez)\n",
    "srez = a[:4] # 4 не включительно \n",
    "print(srez)\n",
    "\n",
    "srez = a[0:4:2] # шаг - :2] каждое 2 значения \n",
    "print(srez)\n",
    "\n",
    "srez = a[1:5]\n",
    "print(srez)\n",
    "\n",
    "# №1 массив в обратном порядке \n",
    "srez = a[-1:-6:-1] \n",
    "print(srez)\n",
    "\n",
    "# №2\n",
    "srez = a[::-1]\n",
    "print(srez)"
   ]
  },
  {
   "cell_type": "code",
   "execution_count": 5,
   "metadata": {},
   "outputs": [
    {
     "name": "stdout",
     "output_type": "stream",
     "text": [
      "3\n"
     ]
    }
   ],
   "source": [
    "# Вевести 3 цифру числа\n",
    "m = 12345\n",
    "m = str(m)\n",
    "print(m[2])"
   ]
  },
  {
   "cell_type": "markdown",
   "metadata": {},
   "source": [
    "### ДЗ"
   ]
  },
  {
   "cell_type": "markdown",
   "metadata": {},
   "source": [
    "Извлеките из заданной строки символы с индексами кратными трем."
   ]
  },
  {
   "cell_type": "code",
   "execution_count": null,
   "metadata": {},
   "outputs": [],
   "source": [
    "n = input()\n",
    "srez = n[::3]\n",
    "print(srez)"
   ]
  },
  {
   "cell_type": "markdown",
   "metadata": {},
   "source": [
    "Дана строка s. Если длина строки четная, то вставить в середину строки букву 'a'. Если нечётная, то заменить последний символ строки на букву 'b'"
   ]
  },
  {
   "cell_type": "code",
   "execution_count": null,
   "metadata": {},
   "outputs": [],
   "source": [
    "s = input()\n",
    "l = len(s) #длина строки \n",
    "if l%2==0:  #= присваивание #== проверка на равенство остаток = 0\n",
    "    c = l//2\n",
    "    srez1 = s[:c]\n",
    "    srez2 = s[c:]\n",
    "    # srez = s[a:b] a - учитывается >= b - нет <\n",
    "    print(srez1,'a',srez2,sep='')\n",
    "else:\n",
    "    #s = list(s)\n",
    "    #s[-1] = 'b'\n",
    "    #s = str(s)\n",
    "    #print(s)\n",
    "    print(s[:-1] + 'b')"
   ]
  },
  {
   "cell_type": "markdown",
   "metadata": {},
   "source": [
    "### Задания"
   ]
  },
  {
   "cell_type": "markdown",
   "metadata": {},
   "source": [
    "По введенным фамилии имени отчеству, вывести на экран ФИО"
   ]
  },
  {
   "cell_type": "code",
   "execution_count": null,
   "metadata": {},
   "outputs": [],
   "source": [
    "a = input()\n",
    "b = input()\n",
    "c = input()\n",
    "print(a[0],b[0],c[0],sep = '')"
   ]
  },
  {
   "cell_type": "markdown",
   "metadata": {},
   "source": [
    "#### Отступление (чтение всех введенных строк) Вычисление суммы всех чисел построчно"
   ]
  },
  {
   "cell_type": "code",
   "execution_count": null,
   "metadata": {},
   "outputs": [],
   "source": [
    "a = input()\n",
    "summ = 0 \n",
    "while len(a) != 0: #проверка строчек по очереди (конец цикла - считали строку с нулевой длиной не 0)\n",
    "    summ = summ + int(a)\n",
    "    a = input()\n",
    "print(summ)"
   ]
  },
  {
   "cell_type": "markdown",
   "metadata": {},
   "source": [
    "Наибольший общий делитель двух положительных чисел представляет\n",
    "собой наибольшее число, на которое без остатка делятся оба числа. Существует несколько алгоритмов, позволяющих определить наибольший\n",
    "общий делитель двух чисел, включая следующий.  \n",
    "1. Инициализируйте переменную d меньшим из чисел n и m  \n",
    "2. Пока n или m не делятся на d без остатка, выполнять  \n",
    "2.1. Уменьшить d на единицу  \n",
    "3. Выведите на экран d, это и есть наибольший общий делитель для n и m  \n",
    "\n",
    "Напишите программу, запрашивающую у  пользователя два положительных целых числа и выводящую для них наибольший общий делитель."
   ]
  },
  {
   "cell_type": "code",
   "execution_count": 6,
   "metadata": {},
   "outputs": [
    {
     "name": "stdout",
     "output_type": "stream",
     "text": [
      "2\n"
     ]
    }
   ],
   "source": [
    "n = int(input())\n",
    "m = int(input())\n",
    "if n < m:\n",
    "    d = n\n",
    "else:\n",
    "    d = m\n",
    "while n%d != 0 or m%d != 0:\n",
    "    d = d - 1\n",
    "print(d)\n"
   ]
  },
  {
   "cell_type": "markdown",
   "metadata": {},
   "source": [
    "В данном упражнении вы должны написать программу для подсчета\n",
    "среднего значения всех введенных пользователем чисел. Индикатором\n",
    "окончания ввода будет служить ноль. При этом программа должна выдавать соответствующее сообщение об ошибке, если первым же введенным\n",
    "пользователем значением будет ноль."
   ]
  },
  {
   "cell_type": "code",
   "execution_count": 2,
   "metadata": {},
   "outputs": [
    {
     "name": "stdout",
     "output_type": "stream",
     "text": [
      "5.0\n"
     ]
    }
   ],
   "source": [
    "a = input()\n",
    "summ = 0 \n",
    "d = 0\n",
    "if a == '0':\n",
    "    print('error')\n",
    "else:\n",
    "    while a != '0':  #int(a) != 0:\n",
    "        summ = summ + int(a)\n",
    "        a = input()\n",
    "        d = d + 1 # d += 1\n",
    "    print(summ/d)"
   ]
  },
  {
   "cell_type": "markdown",
   "metadata": {},
   "source": [
    "В зоопарке цена входного билета зависит от возраста посетителя. Дети до\n",
    "двух лет допускаются бесплатно. Дети в возрасте от трех до 12 лет могут\n",
    "посещать зоопарк за $14,00. Пенсионерам старше 65 лет вход обойдется\n",
    "в $18,00, а обычный взрослый билет стоит $23,00.\n",
    "Напишите программу, которая будет запрашивать возраст всех посетителей в группе (по одному за раз) и выводить общую цену билетов для посещения зоопарка этой группой. В качестве индикатора окончания ввода\n",
    "можно по традиции использовать пустую строку. Общую цену билетов\n",
    "стоит выводить в формате с двумя знаками после запятой."
   ]
  },
  {
   "cell_type": "code",
   "execution_count": null,
   "metadata": {},
   "outputs": [],
   "source": [
    "a = input()\n",
    "b = 0\n",
    "while a != '':\n",
    "    if 3 <= int(a) and int(a) < 12:\n",
    "        b = b + 14\n",
    "\n",
    "    a = input() # в конце для продолжения ввода "
   ]
  },
  {
   "cell_type": "markdown",
   "metadata": {},
   "source": [
    "Строка называется палиндромом, если она пишется одинаково в обоих\n",
    "направлениях. Например, палиндромами в английском языке являются\n",
    "слова «anna», «civic», «level», «hannah». Напишите программу, запрашивающую у пользователя строку и при помощи цикла определяющую, является ли она палиндромом."
   ]
  },
  {
   "cell_type": "code",
   "execution_count": null,
   "metadata": {},
   "outputs": [],
   "source": [
    "a = 'anna'\n",
    "i = 0\n",
    "while i != len(a)//2:\n",
    "    i = i + 1\n",
    "if a[1] == a[-1]:\n",
    "    print('Первая и последние буквы равны')"
   ]
  }
 ],
 "metadata": {
  "kernelspec": {
   "display_name": "Python 3",
   "language": "python",
   "name": "python3"
  },
  "language_info": {
   "codemirror_mode": {
    "name": "ipython",
    "version": 3
   },
   "file_extension": ".py",
   "mimetype": "text/x-python",
   "name": "python",
   "nbconvert_exporter": "python",
   "pygments_lexer": "ipython3",
   "version": "3.10.2"
  }
 },
 "nbformat": 4,
 "nbformat_minor": 2
}
